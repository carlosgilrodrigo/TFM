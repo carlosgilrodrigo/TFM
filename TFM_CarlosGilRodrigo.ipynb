{
  "nbformat": 4,
  "nbformat_minor": 0,
  "metadata": {
    "colab": {
      "provenance": [],
      "mount_file_id": "1m1S2HMZAG87M9RAnQauYTVKEaAQjBjVL",
      "authorship_tag": "ABX9TyMQS+9LuFrms4zumjR45XYE",
      "include_colab_link": true
    },
    "kernelspec": {
      "name": "python3",
      "display_name": "Python 3"
    },
    "language_info": {
      "name": "python"
    }
  },
  "cells": [
    {
      "cell_type": "markdown",
      "metadata": {
        "id": "view-in-github",
        "colab_type": "text"
      },
      "source": [
        "<a href=\"https://colab.research.google.com/github/carlosgilrodrigo/TFM/blob/main/TFM_CarlosGilRodrigo.ipynb\" target=\"_parent\"><img src=\"https://colab.research.google.com/assets/colab-badge.svg\" alt=\"Open In Colab\"/></a>"
      ]
    },
    {
      "cell_type": "markdown",
      "source": [
        "## **Trabajo de Fin de Máster**\n",
        "Análisis de los efectos del factor de localidad en el desempeño de equipos de la Premier League."
      ],
      "metadata": {
        "id": "Fy7LFDONPUn1"
      }
    },
    {
      "cell_type": "markdown",
      "source": [
        "# 1 - Introducción y objetivo"
      ],
      "metadata": {
        "id": "9lk4tWMHPoKo"
      }
    },
    {
      "cell_type": "markdown",
      "source": [
        "En esta actividad se utiliza un conjunto de datos con todos los partidos desde 2010 hasta 2021 en la Premier League, liga inglesa de fútbol. El objetivo final es analizar el impacto del factor de localidad en el desempeño de equipos de la Premier League, es decir, conocer la trascendencia de jugar como local. Para ello, se hará uso del proceso KDD."
      ],
      "metadata": {
        "id": "mw9_WIhMPq-Z"
      }
    },
    {
      "cell_type": "markdown",
      "source": [
        "# 2 - Información adicional"
      ],
      "metadata": {
        "id": "imfTNjqqQWiZ"
      }
    },
    {
      "cell_type": "markdown",
      "source": [
        "El conjunto de datos se puede obtener a partir del siguiente enlace: https://www.kaggle.com/datasets/pablohfreitas/all-premier-league-matches-20102021?select=df_full_premierleague.csv\n",
        "\n",
        "Se utilizan las herramientas Panda, Numpy y Seaborn, además de las referentes a Matplotlib para poder graficar."
      ],
      "metadata": {
        "id": "56a_HyT2QasR"
      }
    },
    {
      "cell_type": "code",
      "execution_count": 1,
      "metadata": {
        "id": "gUoSOE1iLMsm"
      },
      "outputs": [],
      "source": [
        "#Importación de paquetes\n",
        "import pandas as pd\n",
        "import numpy as np\n",
        "import seaborn as sns\n",
        "import matplotlib.pyplot as plt\n",
        "import matplotlib.mlab as mlab\n",
        "import matplotlib"
      ]
    },
    {
      "cell_type": "markdown",
      "source": [
        "Lectura del fichero de fuente de datos. Dataset \"All Premier League Matches 2010-2021\" con el histórico de partidos de la liga inglesa de fútbol entre los años 2010 y 2021. Cuenta con 114 columnas y ha sido extraído de la plataforma Kaggle."
      ],
      "metadata": {
        "id": "Ddk44F3HNLdA"
      }
    },
    {
      "cell_type": "code",
      "source": [
        "from google.colab import drive\n",
        "drive.mount('/content/drive')"
      ],
      "metadata": {
        "colab": {
          "base_uri": "https://localhost:8080/"
        },
        "id": "_vcsYNUINHrw",
        "outputId": "4243e776-971a-4602-fa09-c2d20ea50541"
      },
      "execution_count": 2,
      "outputs": [
        {
          "output_type": "stream",
          "name": "stdout",
          "text": [
            "Drive already mounted at /content/drive; to attempt to forcibly remount, call drive.mount(\"/content/drive\", force_remount=True).\n"
          ]
        }
      ]
    },
    {
      "cell_type": "code",
      "source": [
        "#Lectura de datos\n",
        "df = pd.read_csv('/content/drive/MyDrive/TFM/df_full_premierleague.csv')"
      ],
      "metadata": {
        "id": "Crz67L2nOcGp"
      },
      "execution_count": 5,
      "outputs": []
    },
    {
      "cell_type": "markdown",
      "source": [
        "Comprobación de los tipos de datos y del número de instancias."
      ],
      "metadata": {
        "id": "jFY53c7SOrdu"
      }
    },
    {
      "cell_type": "code",
      "source": [
        "print(\"DIMENSIONALIDAD DEL DATAFRAME: \\n\")\n",
        "print(df.shape,\"\\n\")\n",
        "print(\"TIPOS DE DATOS: \\n\")\n",
        "print(df.dtypes,\"\\n\")\n",
        "print(\"COLUMNAS: \\n\")\n",
        "print(df.columns)"
      ],
      "metadata": {
        "colab": {
          "base_uri": "https://localhost:8080/"
        },
        "id": "jA8bFv68Owyf",
        "outputId": "ae859bb0-5f10-4330-8018-f23a28d85584"
      },
      "execution_count": 6,
      "outputs": [
        {
          "output_type": "stream",
          "name": "stdout",
          "text": [
            "DIMENSIONALIDAD DEL DATAFRAME: \n",
            "\n",
            "(4070, 114) \n",
            "\n",
            "TIPOS DE DATOS: \n",
            "\n",
            "Unnamed: 0                    int64\n",
            "link_match                   object\n",
            "season                       object\n",
            "date                         object\n",
            "home_team                    object\n",
            "                             ...   \n",
            "sg_match_ft_acum_away       float64\n",
            "goals_scored_ht_avg_away    float64\n",
            "goals_conced_ht_avg_away    float64\n",
            "sg_match_ht_acum_away       float64\n",
            "performance_acum_away       float64\n",
            "Length: 114, dtype: object \n",
            "\n",
            "COLUMNAS: \n",
            "\n",
            "Index(['Unnamed: 0', 'link_match', 'season', 'date', 'home_team', 'away_team',\n",
            "       'result_full', 'result_ht', 'home_clearances', 'home_corners',\n",
            "       ...\n",
            "       'tackles_avg_away', 'touches_avg_away', 'yellow_cards_avg_away',\n",
            "       'goals_scored_ft_avg_away', 'goals_conced_ft_avg_away',\n",
            "       'sg_match_ft_acum_away', 'goals_scored_ht_avg_away',\n",
            "       'goals_conced_ht_avg_away', 'sg_match_ht_acum_away',\n",
            "       'performance_acum_away'],\n",
            "      dtype='object', length=114)\n"
          ]
        }
      ]
    },
    {
      "cell_type": "markdown",
      "source": [
        "Comprobación de las variables numéricas del conjunto de datos."
      ],
      "metadata": {
        "id": "mv7mzWgZO86T"
      }
    },
    {
      "cell_type": "code",
      "source": [
        "df_numeric = df.select_dtypes(include = [np.number])\n",
        "numeric_cols = df_numeric.columns.values\n",
        "print(numeric_cols)"
      ],
      "metadata": {
        "colab": {
          "base_uri": "https://localhost:8080/"
        },
        "id": "f_EDYu2RPApU",
        "outputId": "e31e7c95-ab2a-4390-a487-6a9e5ae5a864"
      },
      "execution_count": 7,
      "outputs": [
        {
          "output_type": "stream",
          "name": "stdout",
          "text": [
            "['Unnamed: 0' 'home_clearances' 'home_corners' 'home_fouls_conceded'\n",
            " 'home_offsides' 'home_passes' 'home_possession' 'home_red_cards'\n",
            " 'home_shots' 'home_shots_on_target' 'home_tackles' 'home_touches'\n",
            " 'home_yellow_cards' 'away_clearances' 'away_corners'\n",
            " 'away_fouls_conceded' 'away_offsides' 'away_passes' 'away_possession'\n",
            " 'away_red_cards' 'away_shots' 'away_shots_on_target' 'away_tackles'\n",
            " 'away_touches' 'away_yellow_cards' 'goal_home_ft' 'goal_away_ft'\n",
            " 'sg_match_ft' 'goal_home_ht' 'goal_away_ht' 'sg_match_ht'\n",
            " 'clearances_avg_H' 'corners_avg_H' 'fouls_conceded_avg_H'\n",
            " 'offsides_avg_H' 'passes_avg_H' 'possession_avg_H' 'red_cards_avg_H'\n",
            " 'shots_avg_H' 'shots_on_target_avg_H' 'tackles_avg_H' 'touches_avg_H'\n",
            " 'yellow_cards_avg_H' 'goals_scored_ft_avg_H' 'goals_conced_ft_avg_H'\n",
            " 'sg_match_ft_acum_H' 'goals_scored_ht_avg_H' 'goals_conced_ht_avg_H'\n",
            " 'sg_match_ht_acum_H' 'performance_acum_H' 'clearances_avg_A'\n",
            " 'corners_avg_A' 'fouls_conceded_avg_A' 'offsides_avg_A' 'passes_avg_A'\n",
            " 'possession_avg_A' 'red_cards_avg_A' 'shots_avg_A'\n",
            " 'shots_on_target_avg_A' 'tackles_avg_A' 'touches_avg_A'\n",
            " 'yellow_cards_avg_A' 'goals_scored_ft_avg_A' 'goals_conced_ft_avg_A'\n",
            " 'sg_match_ft_acum_A' 'goals_scored_ht_avg_A' 'goals_conced_ht_avg_A'\n",
            " 'sg_match_ht_acum_A' 'performance_acum_A' 'clearances_avg_home'\n",
            " 'corners_avg_home' 'fouls_conceded_avg_home' 'offsides_avg_home'\n",
            " 'passes_avg_home' 'possession_avg_home' 'red_cards_avg_home'\n",
            " 'shots_avg_home' 'shots_on_target_avg_home' 'tackles_avg_home'\n",
            " 'touches_avg_home' 'yellow_cards_avg_home' 'goals_scored_ft_avg_home'\n",
            " 'goals_conced_ft_avg_home' 'sg_match_ft_acum_home'\n",
            " 'goals_scored_ht_avg_home' 'goals_conced_ht_avg_home'\n",
            " 'sg_match_ht_acum_home' 'performance_acum_home' 'clearances_avg_away'\n",
            " 'corners_avg_away' 'fouls_conceded_avg_away' 'offsides_avg_away'\n",
            " 'passes_avg_away' 'possession_avg_away' 'red_cards_avg_away'\n",
            " 'shots_avg_away' 'shots_on_target_avg_away' 'tackles_avg_away'\n",
            " 'touches_avg_away' 'yellow_cards_avg_away' 'goals_scored_ft_avg_away'\n",
            " 'goals_conced_ft_avg_away' 'sg_match_ft_acum_away'\n",
            " 'goals_scored_ht_avg_away' 'goals_conced_ht_avg_away'\n",
            " 'sg_match_ht_acum_away' 'performance_acum_away']\n"
          ]
        }
      ]
    },
    {
      "cell_type": "markdown",
      "source": [
        "Comprobación de las variables no numéricas del conjunto de datos."
      ],
      "metadata": {
        "id": "5g7bPDxTPEKp"
      }
    },
    {
      "cell_type": "code",
      "source": [
        "df_non_numeric = df.select_dtypes(exclude = [np.number])\n",
        "non_numeric_cols = df_non_numeric.columns.values\n",
        "print(non_numeric_cols)"
      ],
      "metadata": {
        "colab": {
          "base_uri": "https://localhost:8080/"
        },
        "id": "HFdI50tUPHvR",
        "outputId": "b03fbb3e-5cc5-4f66-ead4-db95e6936e9b"
      },
      "execution_count": 8,
      "outputs": [
        {
          "output_type": "stream",
          "name": "stdout",
          "text": [
            "['link_match' 'season' 'date' 'home_team' 'away_team' 'result_full'\n",
            " 'result_ht']\n"
          ]
        }
      ]
    },
    {
      "cell_type": "markdown",
      "source": [
        "# 3 - Limpieza de datos"
      ],
      "metadata": {
        "id": "E0-eZnRDQxSA"
      }
    },
    {
      "cell_type": "markdown",
      "source": [
        "En el proceso KDD, tras la selección del conjunto de datos, hay que limpiar dichos datos en lo que llamamos Data Cleaning. La limpieza de datos pertenece al preprocesado de datos y se basa en la transformación de los datos en bruto que se recogieron, en una forma que pueda ser utilizada en el modelado. Normalmente, las técnicas se basan en adición, eliminación o tranformación de los datos."
      ],
      "metadata": {
        "id": "4ej4KNjvQ4b_"
      }
    },
    {
      "cell_type": "markdown",
      "source": [
        "3.1 - Tratamiento de missing values"
      ],
      "metadata": {
        "id": "Zkl8UM2PRAUJ"
      }
    },
    {
      "cell_type": "markdown",
      "source": [
        "Tratamiento de valores desconocidos o perdidos mediante la eliminación de filas con valores perdidos, la imputación de valores perdidos, el uso de algoritmos que admitan valores perdidos o la predicción de valores perdidos.\n",
        "\n",
        "Los valores nulos o perdidos no proporcionan información para un modelo. Por ello, y teniendo en cuenta el número de atributos diferentes que tiene el conjunto de datos, se van a eliminar las filas que tengan más del 20% de atributos con datos faltantes, ya que dichas filas no estarían lo suficientemente completas como para tenerlas en cuenta.\n",
        "\n",
        "Antes de nada, analizamos el porcentaje de datos faltantes en cada columna."
      ],
      "metadata": {
        "id": "3MlSEcPTRCDt"
      }
    },
    {
      "cell_type": "code",
      "source": [
        "#Porcentaje de missing values en cada columna\n",
        "for col in df.columns:\n",
        "    pct_missing = np.mean(df[col].isnull())\n",
        "    print('{} - {}%'.format(col, round(pct_missing*100)))"
      ],
      "metadata": {
        "colab": {
          "base_uri": "https://localhost:8080/"
        },
        "id": "ELIU7e5URHKY",
        "outputId": "b3c6b6a0-3ce2-4970-c161-26a3c17f834e"
      },
      "execution_count": 9,
      "outputs": [
        {
          "output_type": "stream",
          "name": "stdout",
          "text": [
            "Unnamed: 0 - 0%\n",
            "link_match - 0%\n",
            "season - 0%\n",
            "date - 0%\n",
            "home_team - 0%\n",
            "away_team - 0%\n",
            "result_full - 0%\n",
            "result_ht - 0%\n",
            "home_clearances - 0%\n",
            "home_corners - 0%\n",
            "home_fouls_conceded - 0%\n",
            "home_offsides - 0%\n",
            "home_passes - 0%\n",
            "home_possession - 0%\n",
            "home_red_cards - 0%\n",
            "home_shots - 0%\n",
            "home_shots_on_target - 0%\n",
            "home_tackles - 0%\n",
            "home_touches - 0%\n",
            "home_yellow_cards - 0%\n",
            "away_clearances - 0%\n",
            "away_corners - 0%\n",
            "away_fouls_conceded - 0%\n",
            "away_offsides - 0%\n",
            "away_passes - 0%\n",
            "away_possession - 0%\n",
            "away_red_cards - 0%\n",
            "away_shots - 0%\n",
            "away_shots_on_target - 0%\n",
            "away_tackles - 0%\n",
            "away_touches - 0%\n",
            "away_yellow_cards - 0%\n",
            "goal_home_ft - 0%\n",
            "goal_away_ft - 0%\n",
            "sg_match_ft - 0%\n",
            "goal_home_ht - 0%\n",
            "goal_away_ht - 0%\n",
            "sg_match_ht - 0%\n",
            "clearances_avg_H - 5%\n",
            "corners_avg_H - 5%\n",
            "fouls_conceded_avg_H - 5%\n",
            "offsides_avg_H - 5%\n",
            "passes_avg_H - 5%\n",
            "possession_avg_H - 5%\n",
            "red_cards_avg_H - 5%\n",
            "shots_avg_H - 5%\n",
            "shots_on_target_avg_H - 5%\n",
            "tackles_avg_H - 5%\n",
            "touches_avg_H - 5%\n",
            "yellow_cards_avg_H - 5%\n",
            "goals_scored_ft_avg_H - 5%\n",
            "goals_conced_ft_avg_H - 5%\n",
            "sg_match_ft_acum_H - 5%\n",
            "goals_scored_ht_avg_H - 5%\n",
            "goals_conced_ht_avg_H - 5%\n",
            "sg_match_ht_acum_H - 5%\n",
            "performance_acum_H - 5%\n",
            "clearances_avg_A - 5%\n",
            "corners_avg_A - 5%\n",
            "fouls_conceded_avg_A - 5%\n",
            "offsides_avg_A - 5%\n",
            "passes_avg_A - 5%\n",
            "possession_avg_A - 5%\n",
            "red_cards_avg_A - 5%\n",
            "shots_avg_A - 5%\n",
            "shots_on_target_avg_A - 5%\n",
            "tackles_avg_A - 5%\n",
            "touches_avg_A - 5%\n",
            "yellow_cards_avg_A - 5%\n",
            "goals_scored_ft_avg_A - 5%\n",
            "goals_conced_ft_avg_A - 5%\n",
            "sg_match_ft_acum_A - 5%\n",
            "goals_scored_ht_avg_A - 5%\n",
            "goals_conced_ht_avg_A - 5%\n",
            "sg_match_ht_acum_A - 5%\n",
            "performance_acum_A - 5%\n",
            "clearances_avg_home - 3%\n",
            "corners_avg_home - 3%\n",
            "fouls_conceded_avg_home - 3%\n",
            "offsides_avg_home - 3%\n",
            "passes_avg_home - 3%\n",
            "possession_avg_home - 3%\n",
            "red_cards_avg_home - 3%\n",
            "shots_avg_home - 3%\n",
            "shots_on_target_avg_home - 3%\n",
            "tackles_avg_home - 3%\n",
            "touches_avg_home - 3%\n",
            "yellow_cards_avg_home - 3%\n",
            "goals_scored_ft_avg_home - 3%\n",
            "goals_conced_ft_avg_home - 3%\n",
            "sg_match_ft_acum_home - 3%\n",
            "goals_scored_ht_avg_home - 3%\n",
            "goals_conced_ht_avg_home - 3%\n",
            "sg_match_ht_acum_home - 3%\n",
            "performance_acum_home - 3%\n",
            "clearances_avg_away - 3%\n",
            "corners_avg_away - 3%\n",
            "fouls_conceded_avg_away - 3%\n",
            "offsides_avg_away - 3%\n",
            "passes_avg_away - 3%\n",
            "possession_avg_away - 3%\n",
            "red_cards_avg_away - 3%\n",
            "shots_avg_away - 3%\n",
            "shots_on_target_avg_away - 3%\n",
            "tackles_avg_away - 3%\n",
            "touches_avg_away - 3%\n",
            "yellow_cards_avg_away - 3%\n",
            "goals_scored_ft_avg_away - 3%\n",
            "goals_conced_ft_avg_away - 3%\n",
            "sg_match_ft_acum_away - 3%\n",
            "goals_scored_ht_avg_away - 3%\n",
            "goals_conced_ht_avg_away - 3%\n",
            "sg_match_ht_acum_away - 3%\n",
            "performance_acum_away - 3%\n"
          ]
        }
      ]
    }
  ]
}