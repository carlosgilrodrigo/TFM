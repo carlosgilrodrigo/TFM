{
  "nbformat": 4,
  "nbformat_minor": 0,
  "metadata": {
    "colab": {
      "provenance": [],
      "mount_file_id": "1m1S2HMZAG87M9RAnQauYTVKEaAQjBjVL",
      "authorship_tag": "ABX9TyOohcBsUQDGTAROBEkAVIMd",
      "include_colab_link": true
    },
    "kernelspec": {
      "name": "python3",
      "display_name": "Python 3"
    },
    "language_info": {
      "name": "python"
    }
  },
  "cells": [
    {
      "cell_type": "markdown",
      "metadata": {
        "id": "view-in-github",
        "colab_type": "text"
      },
      "source": [
        "<a href=\"https://colab.research.google.com/github/carlosgilrodrigo/TFM/blob/main/TFM_CarlosGilRodrigo.ipynb\" target=\"_parent\"><img src=\"https://colab.research.google.com/assets/colab-badge.svg\" alt=\"Open In Colab\"/></a>"
      ]
    },
    {
      "cell_type": "markdown",
      "source": [
        "## **Trabajo de Fin de Máster**\n",
        "Análisis de los efectos del factor de localidad en el desempeño de equipos de la Premier League."
      ],
      "metadata": {
        "id": "Fy7LFDONPUn1"
      }
    },
    {
      "cell_type": "markdown",
      "source": [
        "# 1 - Introducción y objetivo"
      ],
      "metadata": {
        "id": "9lk4tWMHPoKo"
      }
    },
    {
      "cell_type": "markdown",
      "source": [
        "En esta actividad se utiliza un conjunto de datos con todos los partidos desde 2010 hasta 2021 en la Premier League, liga inglesa de fútbol. El objetivo final es analizar el impacto del factor de localidad en el desempeño de equipos de la Premier League, es decir, conocer la trascendencia de jugar como local. Para ello, se hará uso del proceso KDD."
      ],
      "metadata": {
        "id": "mw9_WIhMPq-Z"
      }
    },
    {
      "cell_type": "markdown",
      "source": [
        "# 2 - Información adicional"
      ],
      "metadata": {
        "id": "imfTNjqqQWiZ"
      }
    },
    {
      "cell_type": "markdown",
      "source": [
        "El conjunto de datos se puede obtener a partir del siguiente enlace: https://www.kaggle.com/datasets/pablohfreitas/all-premier-league-matches-20102021?select=df_full_premierleague.csv\n",
        "\n",
        "Se utilizan las herramientas Panda, Numpy y Seaborn, además de las referentes a Matplotlib para poder graficar."
      ],
      "metadata": {
        "id": "56a_HyT2QasR"
      }
    },
    {
      "cell_type": "code",
      "execution_count": 1,
      "metadata": {
        "id": "gUoSOE1iLMsm"
      },
      "outputs": [],
      "source": [
        "#Importación de paquetes\n",
        "import pandas as pd\n",
        "import numpy as np\n",
        "import seaborn as sns\n",
        "import matplotlib.pyplot as plt\n",
        "import matplotlib.mlab as mlab\n",
        "import matplotlib"
      ]
    },
    {
      "cell_type": "markdown",
      "source": [
        "Lectura del fichero de fuente de datos. Dataset \"All Premier League Matches 2010-2021\" con el histórico de partidos de la liga inglesa de fútbol entre los años 2010 y 2021. Cuenta con 114 columnas y ha sido extraído de la plataforma Kaggle."
      ],
      "metadata": {
        "id": "Ddk44F3HNLdA"
      }
    },
    {
      "cell_type": "code",
      "source": [
        "from google.colab import drive\n",
        "drive.mount('/content/drive')"
      ],
      "metadata": {
        "colab": {
          "base_uri": "https://localhost:8080/"
        },
        "id": "_vcsYNUINHrw",
        "outputId": "58681e06-78b4-438f-d34c-9cc3d2f777a3"
      },
      "execution_count": 2,
      "outputs": [
        {
          "output_type": "stream",
          "name": "stdout",
          "text": [
            "Drive already mounted at /content/drive; to attempt to forcibly remount, call drive.mount(\"/content/drive\", force_remount=True).\n"
          ]
        }
      ]
    },
    {
      "cell_type": "code",
      "source": [
        "#Lectura de datos\n",
        "df = pd.read_csv('/content/drive/MyDrive/TFM/df_full_premierleague.csv', decimal='.')"
      ],
      "metadata": {
        "id": "Crz67L2nOcGp"
      },
      "execution_count": 82,
      "outputs": []
    },
    {
      "cell_type": "markdown",
      "source": [
        "Comprobación de los tipos de datos y del número de instancias."
      ],
      "metadata": {
        "id": "jFY53c7SOrdu"
      }
    },
    {
      "cell_type": "code",
      "source": [
        "print(\"DIMENSIONALIDAD DEL DATAFRAME: \\n\")\n",
        "print(df.shape,\"\\n\")\n",
        "print(\"TIPOS DE DATOS: \\n\")\n",
        "print(df.dtypes,\"\\n\")\n",
        "print(\"COLUMNAS: \\n\")\n",
        "print(df.columns)"
      ],
      "metadata": {
        "colab": {
          "base_uri": "https://localhost:8080/"
        },
        "id": "jA8bFv68Owyf",
        "outputId": "57606162-c56a-42d7-f179-2af00473216f"
      },
      "execution_count": 83,
      "outputs": [
        {
          "output_type": "stream",
          "name": "stdout",
          "text": [
            "DIMENSIONALIDAD DEL DATAFRAME: \n",
            "\n",
            "(4070, 114) \n",
            "\n",
            "TIPOS DE DATOS: \n",
            "\n",
            "Unnamed: 0                    int64\n",
            "link_match                   object\n",
            "season                       object\n",
            "date                         object\n",
            "home_team                    object\n",
            "                             ...   \n",
            "sg_match_ft_acum_away       float64\n",
            "goals_scored_ht_avg_away    float64\n",
            "goals_conced_ht_avg_away    float64\n",
            "sg_match_ht_acum_away       float64\n",
            "performance_acum_away       float64\n",
            "Length: 114, dtype: object \n",
            "\n",
            "COLUMNAS: \n",
            "\n",
            "Index(['Unnamed: 0', 'link_match', 'season', 'date', 'home_team', 'away_team',\n",
            "       'result_full', 'result_ht', 'home_clearances', 'home_corners',\n",
            "       ...\n",
            "       'tackles_avg_away', 'touches_avg_away', 'yellow_cards_avg_away',\n",
            "       'goals_scored_ft_avg_away', 'goals_conced_ft_avg_away',\n",
            "       'sg_match_ft_acum_away', 'goals_scored_ht_avg_away',\n",
            "       'goals_conced_ht_avg_away', 'sg_match_ht_acum_away',\n",
            "       'performance_acum_away'],\n",
            "      dtype='object', length=114)\n"
          ]
        }
      ]
    },
    {
      "cell_type": "markdown",
      "source": [
        "Comprobación de las variables numéricas del conjunto de datos."
      ],
      "metadata": {
        "id": "mv7mzWgZO86T"
      }
    },
    {
      "cell_type": "code",
      "source": [
        "df_numeric = df.select_dtypes(include = [np.number])\n",
        "numeric_cols = df_numeric.columns.values\n",
        "print(numeric_cols)"
      ],
      "metadata": {
        "colab": {
          "base_uri": "https://localhost:8080/"
        },
        "id": "f_EDYu2RPApU",
        "outputId": "9ad9cea8-533f-4c36-c81b-f4058a1eb9b1"
      },
      "execution_count": 84,
      "outputs": [
        {
          "output_type": "stream",
          "name": "stdout",
          "text": [
            "['Unnamed: 0' 'home_clearances' 'home_corners' 'home_fouls_conceded'\n",
            " 'home_offsides' 'home_passes' 'home_possession' 'home_red_cards'\n",
            " 'home_shots' 'home_shots_on_target' 'home_tackles' 'home_touches'\n",
            " 'home_yellow_cards' 'away_clearances' 'away_corners'\n",
            " 'away_fouls_conceded' 'away_offsides' 'away_passes' 'away_possession'\n",
            " 'away_red_cards' 'away_shots' 'away_shots_on_target' 'away_tackles'\n",
            " 'away_touches' 'away_yellow_cards' 'goal_home_ft' 'goal_away_ft'\n",
            " 'sg_match_ft' 'goal_home_ht' 'goal_away_ht' 'sg_match_ht'\n",
            " 'clearances_avg_H' 'corners_avg_H' 'fouls_conceded_avg_H'\n",
            " 'offsides_avg_H' 'passes_avg_H' 'possession_avg_H' 'red_cards_avg_H'\n",
            " 'shots_avg_H' 'shots_on_target_avg_H' 'tackles_avg_H' 'touches_avg_H'\n",
            " 'yellow_cards_avg_H' 'goals_scored_ft_avg_H' 'goals_conced_ft_avg_H'\n",
            " 'sg_match_ft_acum_H' 'goals_scored_ht_avg_H' 'goals_conced_ht_avg_H'\n",
            " 'sg_match_ht_acum_H' 'performance_acum_H' 'clearances_avg_A'\n",
            " 'corners_avg_A' 'fouls_conceded_avg_A' 'offsides_avg_A' 'passes_avg_A'\n",
            " 'possession_avg_A' 'red_cards_avg_A' 'shots_avg_A'\n",
            " 'shots_on_target_avg_A' 'tackles_avg_A' 'touches_avg_A'\n",
            " 'yellow_cards_avg_A' 'goals_scored_ft_avg_A' 'goals_conced_ft_avg_A'\n",
            " 'sg_match_ft_acum_A' 'goals_scored_ht_avg_A' 'goals_conced_ht_avg_A'\n",
            " 'sg_match_ht_acum_A' 'performance_acum_A' 'clearances_avg_home'\n",
            " 'corners_avg_home' 'fouls_conceded_avg_home' 'offsides_avg_home'\n",
            " 'passes_avg_home' 'possession_avg_home' 'red_cards_avg_home'\n",
            " 'shots_avg_home' 'shots_on_target_avg_home' 'tackles_avg_home'\n",
            " 'touches_avg_home' 'yellow_cards_avg_home' 'goals_scored_ft_avg_home'\n",
            " 'goals_conced_ft_avg_home' 'sg_match_ft_acum_home'\n",
            " 'goals_scored_ht_avg_home' 'goals_conced_ht_avg_home'\n",
            " 'sg_match_ht_acum_home' 'performance_acum_home' 'clearances_avg_away'\n",
            " 'corners_avg_away' 'fouls_conceded_avg_away' 'offsides_avg_away'\n",
            " 'passes_avg_away' 'possession_avg_away' 'red_cards_avg_away'\n",
            " 'shots_avg_away' 'shots_on_target_avg_away' 'tackles_avg_away'\n",
            " 'touches_avg_away' 'yellow_cards_avg_away' 'goals_scored_ft_avg_away'\n",
            " 'goals_conced_ft_avg_away' 'sg_match_ft_acum_away'\n",
            " 'goals_scored_ht_avg_away' 'goals_conced_ht_avg_away'\n",
            " 'sg_match_ht_acum_away' 'performance_acum_away']\n"
          ]
        }
      ]
    },
    {
      "cell_type": "markdown",
      "source": [
        "Comprobación de las variables no numéricas del conjunto de datos."
      ],
      "metadata": {
        "id": "5g7bPDxTPEKp"
      }
    },
    {
      "cell_type": "code",
      "source": [
        "df_non_numeric = df.select_dtypes(exclude = [np.number])\n",
        "non_numeric_cols = df_non_numeric.columns.values\n",
        "print(non_numeric_cols)"
      ],
      "metadata": {
        "colab": {
          "base_uri": "https://localhost:8080/"
        },
        "id": "HFdI50tUPHvR",
        "outputId": "a86e95cf-8026-4555-f46a-55fbdaef25d7"
      },
      "execution_count": 85,
      "outputs": [
        {
          "output_type": "stream",
          "name": "stdout",
          "text": [
            "['link_match' 'season' 'date' 'home_team' 'away_team' 'result_full'\n",
            " 'result_ht']\n"
          ]
        }
      ]
    },
    {
      "cell_type": "markdown",
      "source": [
        "# 3 - Limpieza de datos"
      ],
      "metadata": {
        "id": "E0-eZnRDQxSA"
      }
    },
    {
      "cell_type": "markdown",
      "source": [
        "En el proceso KDD, tras la selección del conjunto de datos, hay que limpiar dichos datos en lo que llamamos Data Cleaning. La limpieza de datos pertenece al preprocesado de datos y se basa en la transformación de los datos en bruto que se recogieron, en una forma que pueda ser utilizada en el modelado. Normalmente, las técnicas se basan en adición, eliminación o tranformación de los datos."
      ],
      "metadata": {
        "id": "4ej4KNjvQ4b_"
      }
    },
    {
      "cell_type": "markdown",
      "source": [
        "3.1 - Tratamiento de missing values\n",
        "\n"
      ],
      "metadata": {
        "id": "Zkl8UM2PRAUJ"
      }
    },
    {
      "cell_type": "markdown",
      "source": [
        "Tratamiento de valores desconocidos o perdidos mediante la eliminación de filas con valores perdidos, la imputación de valores perdidos, el uso de algoritmos que admitan valores perdidos o la predicción de valores perdidos.\n",
        "\n",
        "Los valores nulos o perdidos no proporcionan información para un modelo. Por ello, y teniendo en cuenta el número de atributos diferentes que tiene el conjunto de datos, se van a eliminar las filas que tengan más del 20% de atributos con datos faltantes, ya que dichas filas no estarían lo suficientemente completas como para tenerlas en cuenta.\n",
        "\n",
        "Antes de nada, analizamos el porcentaje de datos faltantes en cada columna."
      ],
      "metadata": {
        "id": "3MlSEcPTRCDt"
      }
    },
    {
      "cell_type": "code",
      "source": [
        "#Porcentaje de missing values en cada columna\n",
        "for col in df.columns:\n",
        "    pct_missing = np.mean(df[col].isnull())\n",
        "    print('{} - {}%'.format(col, round(pct_missing*100)))"
      ],
      "metadata": {
        "colab": {
          "base_uri": "https://localhost:8080/"
        },
        "id": "ELIU7e5URHKY",
        "outputId": "1645de6c-2150-4ca3-9e13-42aba40404a8"
      },
      "execution_count": 86,
      "outputs": [
        {
          "output_type": "stream",
          "name": "stdout",
          "text": [
            "Unnamed: 0 - 0%\n",
            "link_match - 0%\n",
            "season - 0%\n",
            "date - 0%\n",
            "home_team - 0%\n",
            "away_team - 0%\n",
            "result_full - 0%\n",
            "result_ht - 0%\n",
            "home_clearances - 0%\n",
            "home_corners - 0%\n",
            "home_fouls_conceded - 0%\n",
            "home_offsides - 0%\n",
            "home_passes - 0%\n",
            "home_possession - 0%\n",
            "home_red_cards - 0%\n",
            "home_shots - 0%\n",
            "home_shots_on_target - 0%\n",
            "home_tackles - 0%\n",
            "home_touches - 0%\n",
            "home_yellow_cards - 0%\n",
            "away_clearances - 0%\n",
            "away_corners - 0%\n",
            "away_fouls_conceded - 0%\n",
            "away_offsides - 0%\n",
            "away_passes - 0%\n",
            "away_possession - 0%\n",
            "away_red_cards - 0%\n",
            "away_shots - 0%\n",
            "away_shots_on_target - 0%\n",
            "away_tackles - 0%\n",
            "away_touches - 0%\n",
            "away_yellow_cards - 0%\n",
            "goal_home_ft - 0%\n",
            "goal_away_ft - 0%\n",
            "sg_match_ft - 0%\n",
            "goal_home_ht - 0%\n",
            "goal_away_ht - 0%\n",
            "sg_match_ht - 0%\n",
            "clearances_avg_H - 5%\n",
            "corners_avg_H - 5%\n",
            "fouls_conceded_avg_H - 5%\n",
            "offsides_avg_H - 5%\n",
            "passes_avg_H - 5%\n",
            "possession_avg_H - 5%\n",
            "red_cards_avg_H - 5%\n",
            "shots_avg_H - 5%\n",
            "shots_on_target_avg_H - 5%\n",
            "tackles_avg_H - 5%\n",
            "touches_avg_H - 5%\n",
            "yellow_cards_avg_H - 5%\n",
            "goals_scored_ft_avg_H - 5%\n",
            "goals_conced_ft_avg_H - 5%\n",
            "sg_match_ft_acum_H - 5%\n",
            "goals_scored_ht_avg_H - 5%\n",
            "goals_conced_ht_avg_H - 5%\n",
            "sg_match_ht_acum_H - 5%\n",
            "performance_acum_H - 5%\n",
            "clearances_avg_A - 5%\n",
            "corners_avg_A - 5%\n",
            "fouls_conceded_avg_A - 5%\n",
            "offsides_avg_A - 5%\n",
            "passes_avg_A - 5%\n",
            "possession_avg_A - 5%\n",
            "red_cards_avg_A - 5%\n",
            "shots_avg_A - 5%\n",
            "shots_on_target_avg_A - 5%\n",
            "tackles_avg_A - 5%\n",
            "touches_avg_A - 5%\n",
            "yellow_cards_avg_A - 5%\n",
            "goals_scored_ft_avg_A - 5%\n",
            "goals_conced_ft_avg_A - 5%\n",
            "sg_match_ft_acum_A - 5%\n",
            "goals_scored_ht_avg_A - 5%\n",
            "goals_conced_ht_avg_A - 5%\n",
            "sg_match_ht_acum_A - 5%\n",
            "performance_acum_A - 5%\n",
            "clearances_avg_home - 3%\n",
            "corners_avg_home - 3%\n",
            "fouls_conceded_avg_home - 3%\n",
            "offsides_avg_home - 3%\n",
            "passes_avg_home - 3%\n",
            "possession_avg_home - 3%\n",
            "red_cards_avg_home - 3%\n",
            "shots_avg_home - 3%\n",
            "shots_on_target_avg_home - 3%\n",
            "tackles_avg_home - 3%\n",
            "touches_avg_home - 3%\n",
            "yellow_cards_avg_home - 3%\n",
            "goals_scored_ft_avg_home - 3%\n",
            "goals_conced_ft_avg_home - 3%\n",
            "sg_match_ft_acum_home - 3%\n",
            "goals_scored_ht_avg_home - 3%\n",
            "goals_conced_ht_avg_home - 3%\n",
            "sg_match_ht_acum_home - 3%\n",
            "performance_acum_home - 3%\n",
            "clearances_avg_away - 3%\n",
            "corners_avg_away - 3%\n",
            "fouls_conceded_avg_away - 3%\n",
            "offsides_avg_away - 3%\n",
            "passes_avg_away - 3%\n",
            "possession_avg_away - 3%\n",
            "red_cards_avg_away - 3%\n",
            "shots_avg_away - 3%\n",
            "shots_on_target_avg_away - 3%\n",
            "tackles_avg_away - 3%\n",
            "touches_avg_away - 3%\n",
            "yellow_cards_avg_away - 3%\n",
            "goals_scored_ft_avg_away - 3%\n",
            "goals_conced_ft_avg_away - 3%\n",
            "sg_match_ft_acum_away - 3%\n",
            "goals_scored_ht_avg_away - 3%\n",
            "goals_conced_ht_avg_away - 3%\n",
            "sg_match_ht_acum_away - 3%\n",
            "performance_acum_away - 3%\n"
          ]
        }
      ]
    },
    {
      "cell_type": "code",
      "source": [
        "# Lista de las columnas a tratar con un 3% de valores nulos\n",
        "cols_nulos_3 = ['clearances_avg_home', 'corners_avg_home', 'fouls_conceded_avg_home', 'offsides_avg_home', 'passes_avg_home', 'possession_avg_home', 'red_cards_avg_home', 'shots_avg_home',\n",
        "                'shots_on_target_avg_home', 'tackles_avg_home', 'touches_avg_home', 'yellow_cards_avg_home', 'goals_scored_ft_avg_home', 'goals_conced_ft_avg_home', 'sg_match_ft_acum_home',\n",
        "                'goals_scored_ht_avg_home', 'goals_conced_ht_avg_home', 'sg_match_ht_acum_home', 'performance_acum_home', 'clearances_avg_away', 'corners_avg_away', 'fouls_conceded_avg_away',\n",
        "                'offsides_avg_away', 'passes_avg_away', 'possession_avg_away', 'red_cards_avg_away', 'shots_avg_away', 'shots_on_target_avg_away', 'tackles_avg_away', 'touches_avg_away',\n",
        "                'yellow_cards_avg_away', 'goals_scored_ft_avg_away', 'goals_conced_ft_avg_away', 'sg_match_ft_acum_away', 'goals_scored_ht_avg_away', 'goals_conced_ht_avg_away',\n",
        "                'sg_match_ht_acum_away', 'performance_acum_away']\n",
        "\n",
        "# Rellena los valores faltantes en cada columna con la media correspondiente\n",
        "for col in cols_nulos_3:\n",
        "    media = df[col].mean()\n",
        "    df[col].fillna(media, inplace=True)"
      ],
      "metadata": {
        "id": "tTylpUSM1Jek"
      },
      "execution_count": 87,
      "outputs": []
    },
    {
      "cell_type": "code",
      "source": [
        "#Porcentaje de missing values en cada columna tras rellenar los que tenían un 3% de valores nulos\n",
        "for col in df.columns:\n",
        "    pct_missing = np.mean(df[col].isnull())\n",
        "    print('{} - {}%'.format(col, round(pct_missing*100)))"
      ],
      "metadata": {
        "colab": {
          "base_uri": "https://localhost:8080/"
        },
        "id": "v8lkk8283Dzq",
        "outputId": "163e0b0c-347e-44f7-d98f-9a93cb402b1c"
      },
      "execution_count": 88,
      "outputs": [
        {
          "output_type": "stream",
          "name": "stdout",
          "text": [
            "Unnamed: 0 - 0%\n",
            "link_match - 0%\n",
            "season - 0%\n",
            "date - 0%\n",
            "home_team - 0%\n",
            "away_team - 0%\n",
            "result_full - 0%\n",
            "result_ht - 0%\n",
            "home_clearances - 0%\n",
            "home_corners - 0%\n",
            "home_fouls_conceded - 0%\n",
            "home_offsides - 0%\n",
            "home_passes - 0%\n",
            "home_possession - 0%\n",
            "home_red_cards - 0%\n",
            "home_shots - 0%\n",
            "home_shots_on_target - 0%\n",
            "home_tackles - 0%\n",
            "home_touches - 0%\n",
            "home_yellow_cards - 0%\n",
            "away_clearances - 0%\n",
            "away_corners - 0%\n",
            "away_fouls_conceded - 0%\n",
            "away_offsides - 0%\n",
            "away_passes - 0%\n",
            "away_possession - 0%\n",
            "away_red_cards - 0%\n",
            "away_shots - 0%\n",
            "away_shots_on_target - 0%\n",
            "away_tackles - 0%\n",
            "away_touches - 0%\n",
            "away_yellow_cards - 0%\n",
            "goal_home_ft - 0%\n",
            "goal_away_ft - 0%\n",
            "sg_match_ft - 0%\n",
            "goal_home_ht - 0%\n",
            "goal_away_ht - 0%\n",
            "sg_match_ht - 0%\n",
            "clearances_avg_H - 5%\n",
            "corners_avg_H - 5%\n",
            "fouls_conceded_avg_H - 5%\n",
            "offsides_avg_H - 5%\n",
            "passes_avg_H - 5%\n",
            "possession_avg_H - 5%\n",
            "red_cards_avg_H - 5%\n",
            "shots_avg_H - 5%\n",
            "shots_on_target_avg_H - 5%\n",
            "tackles_avg_H - 5%\n",
            "touches_avg_H - 5%\n",
            "yellow_cards_avg_H - 5%\n",
            "goals_scored_ft_avg_H - 5%\n",
            "goals_conced_ft_avg_H - 5%\n",
            "sg_match_ft_acum_H - 5%\n",
            "goals_scored_ht_avg_H - 5%\n",
            "goals_conced_ht_avg_H - 5%\n",
            "sg_match_ht_acum_H - 5%\n",
            "performance_acum_H - 5%\n",
            "clearances_avg_A - 5%\n",
            "corners_avg_A - 5%\n",
            "fouls_conceded_avg_A - 5%\n",
            "offsides_avg_A - 5%\n",
            "passes_avg_A - 5%\n",
            "possession_avg_A - 5%\n",
            "red_cards_avg_A - 5%\n",
            "shots_avg_A - 5%\n",
            "shots_on_target_avg_A - 5%\n",
            "tackles_avg_A - 5%\n",
            "touches_avg_A - 5%\n",
            "yellow_cards_avg_A - 5%\n",
            "goals_scored_ft_avg_A - 5%\n",
            "goals_conced_ft_avg_A - 5%\n",
            "sg_match_ft_acum_A - 5%\n",
            "goals_scored_ht_avg_A - 5%\n",
            "goals_conced_ht_avg_A - 5%\n",
            "sg_match_ht_acum_A - 5%\n",
            "performance_acum_A - 5%\n",
            "clearances_avg_home - 0%\n",
            "corners_avg_home - 0%\n",
            "fouls_conceded_avg_home - 0%\n",
            "offsides_avg_home - 0%\n",
            "passes_avg_home - 0%\n",
            "possession_avg_home - 0%\n",
            "red_cards_avg_home - 0%\n",
            "shots_avg_home - 0%\n",
            "shots_on_target_avg_home - 0%\n",
            "tackles_avg_home - 0%\n",
            "touches_avg_home - 0%\n",
            "yellow_cards_avg_home - 0%\n",
            "goals_scored_ft_avg_home - 0%\n",
            "goals_conced_ft_avg_home - 0%\n",
            "sg_match_ft_acum_home - 0%\n",
            "goals_scored_ht_avg_home - 0%\n",
            "goals_conced_ht_avg_home - 0%\n",
            "sg_match_ht_acum_home - 0%\n",
            "performance_acum_home - 0%\n",
            "clearances_avg_away - 0%\n",
            "corners_avg_away - 0%\n",
            "fouls_conceded_avg_away - 0%\n",
            "offsides_avg_away - 0%\n",
            "passes_avg_away - 0%\n",
            "possession_avg_away - 0%\n",
            "red_cards_avg_away - 0%\n",
            "shots_avg_away - 0%\n",
            "shots_on_target_avg_away - 0%\n",
            "tackles_avg_away - 0%\n",
            "touches_avg_away - 0%\n",
            "yellow_cards_avg_away - 0%\n",
            "goals_scored_ft_avg_away - 0%\n",
            "goals_conced_ft_avg_away - 0%\n",
            "sg_match_ft_acum_away - 0%\n",
            "goals_scored_ht_avg_away - 0%\n",
            "goals_conced_ht_avg_away - 0%\n",
            "sg_match_ht_acum_away - 0%\n",
            "performance_acum_away - 0%\n"
          ]
        }
      ]
    },
    {
      "cell_type": "code",
      "source": [
        "# Lista de las columnas a tratar con un 5% de valores nulos\n",
        "cols_nulos_5 = [\n",
        "    'clearances_avg_H', 'corners_avg_H', 'fouls_conceded_avg_H', 'offsides_avg_H', 'passes_avg_H', 'possession_avg_H', 'red_cards_avg_H', 'shots_avg_H', 'shots_on_target_avg_H',\n",
        "    'tackles_avg_H', 'touches_avg_H', 'yellow_cards_avg_H', 'goals_scored_ft_avg_H', 'goals_conced_ft_avg_H', 'sg_match_ft_acum_H', 'goals_scored_ht_avg_H', 'goals_conced_ht_avg_H',\n",
        "    'sg_match_ht_acum_H', 'performance_acum_H', 'clearances_avg_A', 'corners_avg_A', 'fouls_conceded_avg_A', 'offsides_avg_A', 'passes_avg_A', 'possession_avg_A', 'red_cards_avg_A',\n",
        "    'shots_avg_A', 'shots_on_target_avg_A', 'tackles_avg_A', 'touches_avg_A', 'yellow_cards_avg_A', 'goals_scored_ft_avg_A', 'goals_conced_ft_avg_A', 'sg_match_ft_acum_A',\n",
        "    'goals_scored_ht_avg_A','goals_conced_ht_avg_A', 'sg_match_ht_acum_A', 'performance_acum_A'\n",
        "]\n",
        "\n",
        "# Rellena los valores faltantes en cada columna con la media correspondiente\n",
        "for col in cols_nulos_5:\n",
        "    media = df[col].mean()\n",
        "    df[col].fillna(media, inplace=True)"
      ],
      "metadata": {
        "id": "r5s6mySt3NXk"
      },
      "execution_count": 89,
      "outputs": []
    },
    {
      "cell_type": "code",
      "source": [
        "#Porcentaje de missing values en cada columna tras rellenar los que tenían un 5% de valores nulos\n",
        "for col in df.columns:\n",
        "    pct_missing = np.mean(df[col].isnull())\n",
        "    print('{} - {}%'.format(col, round(pct_missing*100)))"
      ],
      "metadata": {
        "colab": {
          "base_uri": "https://localhost:8080/"
        },
        "id": "eoZ693iY4Ff9",
        "outputId": "3b899376-e526-480b-a919-4077d1621ba0"
      },
      "execution_count": 90,
      "outputs": [
        {
          "output_type": "stream",
          "name": "stdout",
          "text": [
            "Unnamed: 0 - 0%\n",
            "link_match - 0%\n",
            "season - 0%\n",
            "date - 0%\n",
            "home_team - 0%\n",
            "away_team - 0%\n",
            "result_full - 0%\n",
            "result_ht - 0%\n",
            "home_clearances - 0%\n",
            "home_corners - 0%\n",
            "home_fouls_conceded - 0%\n",
            "home_offsides - 0%\n",
            "home_passes - 0%\n",
            "home_possession - 0%\n",
            "home_red_cards - 0%\n",
            "home_shots - 0%\n",
            "home_shots_on_target - 0%\n",
            "home_tackles - 0%\n",
            "home_touches - 0%\n",
            "home_yellow_cards - 0%\n",
            "away_clearances - 0%\n",
            "away_corners - 0%\n",
            "away_fouls_conceded - 0%\n",
            "away_offsides - 0%\n",
            "away_passes - 0%\n",
            "away_possession - 0%\n",
            "away_red_cards - 0%\n",
            "away_shots - 0%\n",
            "away_shots_on_target - 0%\n",
            "away_tackles - 0%\n",
            "away_touches - 0%\n",
            "away_yellow_cards - 0%\n",
            "goal_home_ft - 0%\n",
            "goal_away_ft - 0%\n",
            "sg_match_ft - 0%\n",
            "goal_home_ht - 0%\n",
            "goal_away_ht - 0%\n",
            "sg_match_ht - 0%\n",
            "clearances_avg_H - 0%\n",
            "corners_avg_H - 0%\n",
            "fouls_conceded_avg_H - 0%\n",
            "offsides_avg_H - 0%\n",
            "passes_avg_H - 0%\n",
            "possession_avg_H - 0%\n",
            "red_cards_avg_H - 0%\n",
            "shots_avg_H - 0%\n",
            "shots_on_target_avg_H - 0%\n",
            "tackles_avg_H - 0%\n",
            "touches_avg_H - 0%\n",
            "yellow_cards_avg_H - 0%\n",
            "goals_scored_ft_avg_H - 0%\n",
            "goals_conced_ft_avg_H - 0%\n",
            "sg_match_ft_acum_H - 0%\n",
            "goals_scored_ht_avg_H - 0%\n",
            "goals_conced_ht_avg_H - 0%\n",
            "sg_match_ht_acum_H - 0%\n",
            "performance_acum_H - 0%\n",
            "clearances_avg_A - 0%\n",
            "corners_avg_A - 0%\n",
            "fouls_conceded_avg_A - 0%\n",
            "offsides_avg_A - 0%\n",
            "passes_avg_A - 0%\n",
            "possession_avg_A - 0%\n",
            "red_cards_avg_A - 0%\n",
            "shots_avg_A - 0%\n",
            "shots_on_target_avg_A - 0%\n",
            "tackles_avg_A - 0%\n",
            "touches_avg_A - 0%\n",
            "yellow_cards_avg_A - 0%\n",
            "goals_scored_ft_avg_A - 0%\n",
            "goals_conced_ft_avg_A - 0%\n",
            "sg_match_ft_acum_A - 0%\n",
            "goals_scored_ht_avg_A - 0%\n",
            "goals_conced_ht_avg_A - 0%\n",
            "sg_match_ht_acum_A - 0%\n",
            "performance_acum_A - 0%\n",
            "clearances_avg_home - 0%\n",
            "corners_avg_home - 0%\n",
            "fouls_conceded_avg_home - 0%\n",
            "offsides_avg_home - 0%\n",
            "passes_avg_home - 0%\n",
            "possession_avg_home - 0%\n",
            "red_cards_avg_home - 0%\n",
            "shots_avg_home - 0%\n",
            "shots_on_target_avg_home - 0%\n",
            "tackles_avg_home - 0%\n",
            "touches_avg_home - 0%\n",
            "yellow_cards_avg_home - 0%\n",
            "goals_scored_ft_avg_home - 0%\n",
            "goals_conced_ft_avg_home - 0%\n",
            "sg_match_ft_acum_home - 0%\n",
            "goals_scored_ht_avg_home - 0%\n",
            "goals_conced_ht_avg_home - 0%\n",
            "sg_match_ht_acum_home - 0%\n",
            "performance_acum_home - 0%\n",
            "clearances_avg_away - 0%\n",
            "corners_avg_away - 0%\n",
            "fouls_conceded_avg_away - 0%\n",
            "offsides_avg_away - 0%\n",
            "passes_avg_away - 0%\n",
            "possession_avg_away - 0%\n",
            "red_cards_avg_away - 0%\n",
            "shots_avg_away - 0%\n",
            "shots_on_target_avg_away - 0%\n",
            "tackles_avg_away - 0%\n",
            "touches_avg_away - 0%\n",
            "yellow_cards_avg_away - 0%\n",
            "goals_scored_ft_avg_away - 0%\n",
            "goals_conced_ft_avg_away - 0%\n",
            "sg_match_ft_acum_away - 0%\n",
            "goals_scored_ht_avg_away - 0%\n",
            "goals_conced_ht_avg_away - 0%\n",
            "sg_match_ht_acum_away - 0%\n",
            "performance_acum_away - 0%\n"
          ]
        }
      ]
    },
    {
      "cell_type": "markdown",
      "source": [
        "3.2 - Tratamiento de outliers\n"
      ],
      "metadata": {
        "id": "fl9TmeIq5JTN"
      }
    },
    {
      "cell_type": "markdown",
      "source": [
        "Tratamiento de valores fuera de rango mediante la eliminación de valores atípicos del análisis, segmentación de datos para que los valores atípicos estén en un grupo separado o utilización de diferentes métodos estadísticos para el análisis (manteniendo los valores atípicos).\n",
        "\n",
        "Los valores fuera de rango o atípicos son datos diferentes de otras observaciones, que pueden ser errores o simplemente valores fuera del rango normal."
      ],
      "metadata": {
        "id": "mPSZzPTt5PhX"
      }
    },
    {
      "cell_type": "code",
      "source": [
        "df['home_clearances'].hist(bins=40)\n",
        "df['away_clearances'].hist(bins=40)\n",
        "df['clearances_avg_H'].hist(bins=40)\n",
        "df['clearances_avg_A'].hist(bins=40)\n",
        "df['clearances_avg_home'].hist(bins=40)\n",
        "df['clearances_avg_away'].hist(bins=40)"
      ],
      "metadata": {
        "colab": {
          "base_uri": "https://localhost:8080/",
          "height": 447
        },
        "id": "cMSyE9d-CD8r",
        "outputId": "549e37f6-aa06-41f6-dbb1-cd22b5a74860"
      },
      "execution_count": 91,
      "outputs": [
        {
          "output_type": "execute_result",
          "data": {
            "text/plain": [
              "<Axes: >"
            ]
          },
          "metadata": {},
          "execution_count": 91
        },
        {
          "output_type": "display_data",
          "data": {
            "text/plain": [
              "<Figure size 640x480 with 1 Axes>"
            ],
            "image/png": "[encoded data removed]"
          },
          "metadata": {}
        }
      ]
    },
    {
      "cell_type": "code",
      "source": [
        "df['home_corners'].hist(bins=20)\n",
        "df['away_corners'].hist(bins=20)\n",
        "df['corners_avg_H'].hist(bins=20)\n",
        "df['corners_avg_A'].hist(bins=20)\n",
        "df['corners_avg_home'].hist(bins=20)\n",
        "df['corners_avg_away'].hist(bins=20)"
      ],
      "metadata": {
        "colab": {
          "base_uri": "https://localhost:8080/",
          "height": 448
        },
        "id": "aWp5zcZFFko9",
        "outputId": "f4f0a242-a990-4b6c-96d9-e8f2fbb4184a"
      },
      "execution_count": 92,
      "outputs": [
        {
          "output_type": "execute_result",
          "data": {
            "text/plain": [
              "<Axes: >"
            ]
          },
          "metadata": {},
          "execution_count": 92
        },
        {
          "output_type": "display_data",
          "data": {
            "text/plain": [
              "<Figure size 640x480 with 1 Axes>"
            ],
            "image/png": "[encoded data removed]"
          },
          "metadata": {}
        }
      ]
    },
    {
      "cell_type": "code",
      "source": [
        "df['home_fouls_conceded'].hist(bins=20)\n",
        "df['away_fouls_conceded'].hist(bins=20)\n",
        "df['fouls_conceded_avg_H'].hist(bins=20)\n",
        "df['fouls_conceded_avg_A'].hist(bins=20)\n",
        "df['fouls_conceded_avg_home'].hist(bins=20)\n",
        "df['fouls_conceded_avg_away'].hist(bins=20)"
      ],
      "metadata": {
        "colab": {
          "base_uri": "https://localhost:8080/",
          "height": 447
        },
        "id": "wPzCrb4nGXKG",
        "outputId": "8f9e16d6-1e82-4b7a-c510-489c4fd01c40"
      },
      "execution_count": 93,
      "outputs": [
        {
          "output_type": "execute_result",
          "data": {
            "text/plain": [
              "<Axes: >"
            ]
          },
          "metadata": {},
          "execution_count": 93
        },
        {
          "output_type": "display_data",
          "data": {
            "text/plain": [
              "<Figure size 640x480 with 1 Axes>"
            ],
            "image/png": "[encoded data removed]"
          },
          "metadata": {}
        }
      ]
    },
    {
      "cell_type": "code",
      "source": [
        "df['home_offsides'].hist(bins=12)\n",
        "df['away_offsides'].hist(bins=12)\n",
        "df['offsides_avg_H'].hist(bins=12)\n",
        "df['offsides_avg_A'].hist(bins=12)\n",
        "df['offsides_avg_home'].hist(bins=12)\n",
        "df['offsides_avg_away'].hist(bins=12)"
      ],
      "metadata": {
        "colab": {
          "base_uri": "https://localhost:8080/",
          "height": 447
        },
        "id": "-ANNxQDAGz1T",
        "outputId": "33ff69ba-db2c-40b6-8e9a-b8bf3cf42d8e"
      },
      "execution_count": 94,
      "outputs": [
        {
          "output_type": "execute_result",
          "data": {
            "text/plain": [
              "<Axes: >"
            ]
          },
          "metadata": {},
          "execution_count": 94
        },
        {
          "output_type": "display_data",
          "data": {
            "text/plain": [
              "<Figure size 640x480 with 1 Axes>"
            ],
            "image/png": "[encoded data removed]"
          },
          "metadata": {}
        }
      ]
    },
    {
      "cell_type": "code",
      "source": [
        "df['home_passes'].hist(bins=50)\n",
        "df['away_passes'].hist(bins=50)\n",
        "df['passes_avg_H'].hist(bins=50)\n",
        "df['passes_avg_A'].hist(bins=50)\n",
        "df['passes_avg_home'].hist(bins=50)\n",
        "df['passes_avg_away'].hist(bins=50)"
      ],
      "metadata": {
        "colab": {
          "base_uri": "https://localhost:8080/",
          "height": 447
        },
        "id": "0aM7xT4VHqrT",
        "outputId": "9661cc71-8a21-48e4-85cc-314312c71971"
      },
      "execution_count": 114,
      "outputs": [
        {
          "output_type": "execute_result",
          "data": {
            "text/plain": [
              "<Axes: >"
            ]
          },
          "metadata": {},
          "execution_count": 114
        },
        {
          "output_type": "display_data",
          "data": {
            "text/plain": [
              "<Figure size 640x480 with 1 Axes>"
            ],
            "image/png": "[encoded data removed]"
          },
          "metadata": {}
        }
      ]
    },
    {
      "cell_type": "code",
      "source": [
        "df['home_possession'].hist(bins=50)\n",
        "df['away_possession'].hist(bins=50)\n",
        "df['possession_avg_H'].hist(bins=50)\n",
        "df['possession_avg_A'].hist(bins=50)\n",
        "df['possession_avg_home'].hist(bins=50)\n",
        "df['possession_avg_away'].hist(bins=50)"
      ],
      "metadata": {
        "colab": {
          "base_uri": "https://localhost:8080/",
          "height": 447
        },
        "id": "JrAbw0HlIrC4",
        "outputId": "03e59ce6-5578-4d5a-c14a-359270682e3f"
      },
      "execution_count": 96,
      "outputs": [
        {
          "output_type": "execute_result",
          "data": {
            "text/plain": [
              "<Axes: >"
            ]
          },
          "metadata": {},
          "execution_count": 96
        },
        {
          "output_type": "display_data",
          "data": {
            "text/plain": [
              "<Figure size 640x480 with 1 Axes>"
            ],
            "image/png": "[encoded data removed]"
          },
          "metadata": {}
        }
      ]
    },
    {
      "cell_type": "code",
      "source": [
        "df['home_red_cards'].hist(bins=20)\n",
        "df['away_red_cards'].hist(bins=20)\n",
        "df['red_cards_avg_H'].hist(bins=20)\n",
        "df['red_cards_avg_A'].hist(bins=20)\n",
        "df['red_cards_avg_home'].hist(bins=20)\n",
        "df['red_cards_avg_away'].hist(bins=20)"
      ],
      "metadata": {
        "colab": {
          "base_uri": "https://localhost:8080/",
          "height": 450
        },
        "id": "amNbZHWcJRas",
        "outputId": "11771c1a-cbaa-4ab3-c9f2-fe963ee16f07"
      },
      "execution_count": 113,
      "outputs": [
        {
          "output_type": "execute_result",
          "data": {
            "text/plain": [
              "<Axes: >"
            ]
          },
          "metadata": {},
          "execution_count": 113
        },
        {
          "output_type": "display_data",
          "data": {
            "text/plain": [
              "<Figure size 640x480 with 1 Axes>"
            ],
            "image/png": "[encoded data removed]"
          },
          "metadata": {}
        }
      ]
    },
    {
      "cell_type": "code",
      "source": [
        "df['home_shots'].hist(bins=30)\n",
        "df['away_shots'].hist(bins=30)\n",
        "df['shots_avg_H'].hist(bins=30)\n",
        "df['shots_avg_A'].hist(bins=30)\n",
        "df['shots_avg_home'].hist(bins=30)\n",
        "df['shots_avg_away'].hist(bins=30)"
      ],
      "metadata": {
        "colab": {
          "base_uri": "https://localhost:8080/",
          "height": 447
        },
        "id": "yymu7DTsKmVQ",
        "outputId": "ed1aa07b-7520-415f-d59a-017f69b4e58a"
      },
      "execution_count": 101,
      "outputs": [
        {
          "output_type": "execute_result",
          "data": {
            "text/plain": [
              "<Axes: >"
            ]
          },
          "metadata": {},
          "execution_count": 101
        },
        {
          "output_type": "display_data",
          "data": {
            "text/plain": [
              "<Figure size 640x480 with 1 Axes>"
            ],
            "image/png": "[encoded data removed]"
          },
          "metadata": {}
        }
      ]
    },
    {
      "cell_type": "code",
      "source": [
        "df['home_shots_on_target'].hist(bins=18)\n",
        "df['away_shots_on_target'].hist(bins=18)\n",
        "df['shots_on_target_avg_H'].hist(bins=18)\n",
        "df['shots_on_target_avg_A'].hist(bins=18)\n",
        "df['shots_on_target_avg_home'].hist(bins=18)\n",
        "df['shots_on_target_avg_away'].hist(bins=18)"
      ],
      "metadata": {
        "colab": {
          "base_uri": "https://localhost:8080/",
          "height": 447
        },
        "id": "V7KKoWRNMu20",
        "outputId": "1f330c76-89ea-4237-8ddf-c3507af15b72"
      },
      "execution_count": 107,
      "outputs": [
        {
          "output_type": "execute_result",
          "data": {
            "text/plain": [
              "<Axes: >"
            ]
          },
          "metadata": {},
          "execution_count": 107
        },
        {
          "output_type": "display_data",
          "data": {
            "text/plain": [
              "<Figure size 640x480 with 1 Axes>"
            ],
            "image/png": "[encoded data removed]"
          },
          "metadata": {}
        }
      ]
    },
    {
      "cell_type": "code",
      "source": [
        "df['home_tackles'].hist(bins=20)\n",
        "df['away_tackles'].hist(bins=20)\n",
        "df['tackles_avg_H'].hist(bins=20)\n",
        "df['tackles_avg_A'].hist(bins=20)\n",
        "df['tackles_avg_home'].hist(bins=20)\n",
        "df['tackles_avg_away'].hist(bins=20)"
      ],
      "metadata": {
        "colab": {
          "base_uri": "https://localhost:8080/",
          "height": 447
        },
        "id": "4wG2aVXaNdpn",
        "outputId": "3b30cc5d-2579-4cc8-bbc3-8dcc94cf1521"
      },
      "execution_count": 108,
      "outputs": [
        {
          "output_type": "execute_result",
          "data": {
            "text/plain": [
              "<Axes: >"
            ]
          },
          "metadata": {},
          "execution_count": 108
        },
        {
          "output_type": "display_data",
          "data": {
            "text/plain": [
              "<Figure size 640x480 with 1 Axes>"
            ],
            "image/png": "[encoded data removed]"
          },
          "metadata": {}
        }
      ]
    },
    {
      "cell_type": "code",
      "source": [
        "df['home_touches'].hist(bins=50)\n",
        "df['away_touches'].hist(bins=50)\n",
        "df['touches_avg_H'].hist(bins=50)\n",
        "df['touches_avg_A'].hist(bins=50)\n",
        "df['touches_avg_home'].hist(bins=50)\n",
        "df['touches_avg_away'].hist(bins=50)"
      ],
      "metadata": {
        "colab": {
          "base_uri": "https://localhost:8080/",
          "height": 447
        },
        "id": "67OGujZuN1LF",
        "outputId": "a36f6094-32b7-4958-fe1b-1559ae7a0051"
      },
      "execution_count": 110,
      "outputs": [
        {
          "output_type": "execute_result",
          "data": {
            "text/plain": [
              "<Axes: >"
            ]
          },
          "metadata": {},
          "execution_count": 110
        },
        {
          "output_type": "display_data",
          "data": {
            "text/plain": [
              "<Figure size 640x480 with 1 Axes>"
            ],
            "image/png": "[encoded data removed]"
          },
          "metadata": {}
        }
      ]
    },
    {
      "cell_type": "code",
      "source": [
        "df['home_yellow_cards'].hist(bins=10)\n",
        "df['away_yellow_cards'].hist(bins=10)\n",
        "df['yellow_cards_avg_H'].hist(bins=10)\n",
        "df['yellow_cards_avg_A'].hist(bins=10)\n",
        "df['yellow_cards_avg_home'].hist(bins=10)\n",
        "df['yellow_cards_avg_away'].hist(bins=10)"
      ],
      "metadata": {
        "colab": {
          "base_uri": "https://localhost:8080/",
          "height": 447
        },
        "id": "mJUo8MY6O8Zg",
        "outputId": "63d7a315-ea97-4d05-d330-ec29d925ef43"
      },
      "execution_count": 127,
      "outputs": [
        {
          "output_type": "execute_result",
          "data": {
            "text/plain": [
              "<Axes: >"
            ]
          },
          "metadata": {},
          "execution_count": 127
        },
        {
          "output_type": "display_data",
          "data": {
            "text/plain": [
              "<Figure size 640x480 with 1 Axes>"
            ],
            "image/png": "[encoded data removed]"
          },
          "metadata": {}
        }
      ]
    },
    {
      "cell_type": "code",
      "source": [
        "df['goal_home_ft'].hist(bins=10)\n",
        "df['goal_away_ft'].hist(bins=10)\n",
        "df['goals_scored_ft_avg_H'].hist(bins=10)\n",
        "df['goals_conced_ft_avg_H'].hist(bins=10)\n",
        "df['goals_scored_ft_avg_A'].hist(bins=10)\n",
        "df['goals_conced_ft_avg_A'].hist(bins=10)\n",
        "df['goals_scored_ft_avg_home'].hist(bins=10)\n",
        "df['goals_conced_ft_avg_home'].hist(bins=10)\n",
        "df['goals_scored_ft_avg_away'].hist(bins=10)\n",
        "df['goals_conced_ft_avg_away'].hist(bins=10)"
      ],
      "metadata": {
        "colab": {
          "base_uri": "https://localhost:8080/",
          "height": 447
        },
        "id": "p7_W61kYQB3y",
        "outputId": "d0a4e848-2b2f-4140-8686-57f85299c3ce"
      },
      "execution_count": 134,
      "outputs": [
        {
          "output_type": "execute_result",
          "data": {
            "text/plain": [
              "<Axes: >"
            ]
          },
          "metadata": {},
          "execution_count": 134
        },
        {
          "output_type": "display_data",
          "data": {
            "text/plain": [
              "<Figure size 640x480 with 1 Axes>"
            ],
            "image/png": "[encoded data removed]"
          },
          "metadata": {}
        }
      ]
    },
    {
      "cell_type": "code",
      "source": [
        "df['goal_home_ht'].hist(bins=10)\n",
        "df['goal_away_ht'].hist(bins=10)\n",
        "df['goals_scored_ht_avg_H'].hist(bins=10)\n",
        "df['goals_conced_ht_avg_H'].hist(bins=10)\n",
        "df['goals_scored_ht_avg_A'].hist(bins=10)\n",
        "df['goals_conced_ht_avg_A'].hist(bins=10)\n",
        "df['goals_scored_ht_avg_home'].hist(bins=10)\n",
        "df['goals_conced_ht_avg_home'].hist(bins=10)\n",
        "df['goals_scored_ht_avg_away'].hist(bins=10)\n",
        "df['goals_conced_ht_avg_away'].hist(bins=10)"
      ],
      "metadata": {
        "colab": {
          "base_uri": "https://localhost:8080/",
          "height": 447
        },
        "id": "cW47xXoGRZBo",
        "outputId": "a84cfca5-948e-48db-a271-a07367258554"
      },
      "execution_count": 144,
      "outputs": [
        {
          "output_type": "execute_result",
          "data": {
            "text/plain": [
              "<Axes: >"
            ]
          },
          "metadata": {},
          "execution_count": 144
        },
        {
          "output_type": "display_data",
          "data": {
            "text/plain": [
              "<Figure size 640x480 with 1 Axes>"
            ],
            "image/png": "[encoded data removed]"
          },
          "metadata": {}
        }
      ]
    },
    {
      "cell_type": "code",
      "source": [
        "df['sg_match_ft'].hist(bins=30)\n",
        "df['sg_match_ft_acum_H'].hist(bins=30)\n",
        "df['sg_match_ft_acum_A'].hist(bins=30)\n",
        "df['sg_match_ft_acum_home'].hist(bins=30)\n",
        "df['sg_match_ft_acum_away'].hist(bins=30)"
      ],
      "metadata": {
        "colab": {
          "base_uri": "https://localhost:8080/",
          "height": 447
        },
        "id": "8lB0ml4ASmYv",
        "outputId": "a8828bec-8b14-4fe3-dcaa-1d1f83e96c89"
      },
      "execution_count": 150,
      "outputs": [
        {
          "output_type": "execute_result",
          "data": {
            "text/plain": [
              "<Axes: >"
            ]
          },
          "metadata": {},
          "execution_count": 150
        },
        {
          "output_type": "display_data",
          "data": {
            "text/plain": [
              "<Figure size 640x480 with 1 Axes>"
            ],
            "image/png": "[encoded data removed]"
          },
          "metadata": {}
        }
      ]
    },
    {
      "cell_type": "code",
      "source": [
        "df['sg_match_ht'].hist(bins=15)\n",
        "df['sg_match_ht_acum_H'].hist(bins=15)\n",
        "df['sg_match_ht_acum_A'].hist(bins=15)\n",
        "df['sg_match_ht_acum_home'].hist(bins=15)\n",
        "df['sg_match_ht_acum_away'].hist(bins=15)"
      ],
      "metadata": {
        "colab": {
          "base_uri": "https://localhost:8080/",
          "height": 447
        },
        "id": "n3oEW937TKOL",
        "outputId": "f569141f-aec2-4775-a98d-295660e79f4f"
      },
      "execution_count": 153,
      "outputs": [
        {
          "output_type": "execute_result",
          "data": {
            "text/plain": [
              "<Axes: >"
            ]
          },
          "metadata": {},
          "execution_count": 153
        },
        {
          "output_type": "display_data",
          "data": {
            "text/plain": [
              "<Figure size 640x480 with 1 Axes>"
            ],
            "image/png": "[encoded data removed]"
          },
          "metadata": {}
        }
      ]
    },
    {
      "cell_type": "code",
      "source": [
        "df['performance_acum_H'].hist(bins=15)\n",
        "df['performance_acum_A'].hist(bins=15)\n",
        "df['performance_acum_home'].hist(bins=15)\n",
        "df['performance_acum_away'].hist(bins=15)"
      ],
      "metadata": {
        "colab": {
          "base_uri": "https://localhost:8080/",
          "height": 447
        },
        "id": "ExwLrBSNTmyi",
        "outputId": "dbac130d-f090-4a33-a426-b9a88ba58167"
      },
      "execution_count": 167,
      "outputs": [
        {
          "output_type": "execute_result",
          "data": {
            "text/plain": [
              "<Axes: >"
            ]
          },
          "metadata": {},
          "execution_count": 167
        },
        {
          "output_type": "display_data",
          "data": {
            "text/plain": [
              "<Figure size 640x480 with 1 Axes>"
            ],
            "image/png": "[encoded data removed]"
          },
          "metadata": {}
        }
      ]
    },
    {
      "cell_type": "markdown",
      "source": [
        "3.3 - Tratamiento de datos innecesarios"
      ],
      "metadata": {
        "id": "NbMf0BVhVp8H"
      }
    },
    {
      "cell_type": "markdown",
      "source": [
        "El tratamiento de datos innecesarios se compone, a su vez, de varios tipos de tratamientos que comparten el propósito de lograr que todos los datos del modelo sirvan para alcanzar el objetivo del proyecto. Todos los datos resultantes tienen que añadir valor, y para eliminar los que no aportan dicho valor, tenemos los siguientes tratamientos:\n",
        "\n",
        "*   Tratamiento de datos contaminados\n",
        "*   Tratamiento de datos inconsistentes\n",
        "*   Tratamiento de datos duplicados\n",
        "*   Tratamiento con los tipos de datos\n",
        "\n",
        "\n",
        "\n",
        "\n"
      ],
      "metadata": {
        "id": "iczmMW8hVqp6"
      }
    },
    {
      "cell_type": "markdown",
      "source": [
        "3.3.1 Datos inconsistentes"
      ],
      "metadata": {
        "id": "rgsmcZL-V8x1"
      }
    },
    {
      "cell_type": "markdown",
      "source": [
        "Capitalización:"
      ],
      "metadata": {
        "id": "DZ_cKMUPZYFg"
      }
    },
    {
      "cell_type": "code",
      "source": [
        "df['home_team'].value_counts(dropna=False)\n",
        "df['away_team'].value_counts(dropna=False)"
      ],
      "metadata": {
        "colab": {
          "base_uri": "https://localhost:8080/"
        },
        "id": "xZaJno9IV__G",
        "outputId": "83cade01-986e-44d9-cdeb-a1bc3e9b5d75"
      },
      "execution_count": 168,
      "outputs": [
        {
          "output_type": "execute_result",
          "data": {
            "text/plain": [
              "Manchester United           205\n",
              "Arsenal                     204\n",
              "Chelsea                     204\n",
              "Manchester City             203\n",
              "Everton                     203\n",
              "Liverpool                   203\n",
              "Tottenham Hotspur           202\n",
              "Newcastle United            185\n",
              "West Ham United             184\n",
              "Southampton                 166\n",
              "West Bromwich Albion        165\n",
              "Stoke City                  152\n",
              "Aston Villa                 147\n",
              "Crystal Palace              146\n",
              "Sunderland                  133\n",
              "Swansea City                133\n",
              "Leicester City              129\n",
              "Fulham                      109\n",
              "Burnley                     108\n",
              "Norwich City                 95\n",
              "Watford                      95\n",
              "AFC Bournemouth              94\n",
              "Wolverhampton Wanderers      91\n",
              "Brighton and Hove Albion     70\n",
              "Queens Park Rangers          57\n",
              "Hull City                    57\n",
              "Wigan Athletic               57\n",
              "Huddersfield Town            38\n",
              "Bolton Wanderers             38\n",
              "Cardiff City                 38\n",
              "Blackburn Rovers             38\n",
              "Sheffield United             32\n",
              "Reading                      19\n",
              "Middlesbrough                19\n",
              "Birmingham City              19\n",
              "Blackpool                    19\n",
              "Leeds United                 13\n",
              "Name: away_team, dtype: int64"
            ]
          },
          "metadata": {},
          "execution_count": 168
        }
      ]
    },
    {
      "cell_type": "code",
      "source": [
        "df['home_team'] = df['home_team'].str.lower()\n",
        "df['home_team'].value_counts(dropna=False)"
      ],
      "metadata": {
        "colab": {
          "base_uri": "https://localhost:8080/"
        },
        "id": "fJYHDyeUY9I5",
        "outputId": "2b601db1-d101-4f59-eb07-942eda7ffcdc"
      },
      "execution_count": 169,
      "outputs": [
        {
          "output_type": "execute_result",
          "data": {
            "text/plain": [
              "manchester city             205\n",
              "liverpool                   204\n",
              "manchester united           203\n",
              "chelsea                     203\n",
              "arsenal                     203\n",
              "everton                     203\n",
              "tottenham hotspur           203\n",
              "newcastle united            184\n",
              "west ham united             184\n",
              "west bromwich albion        167\n",
              "southampton                 165\n",
              "stoke city                  152\n",
              "crystal palace              146\n",
              "aston villa                 145\n",
              "swansea city                133\n",
              "sunderland                  133\n",
              "leicester city              127\n",
              "burnley                     110\n",
              "fulham                      109\n",
              "norwich city                 95\n",
              "watford                      95\n",
              "afc bournemouth              95\n",
              "wolverhampton wanderers      89\n",
              "brighton and hove albion     71\n",
              "queens park rangers          57\n",
              "wigan athletic               57\n",
              "hull city                    57\n",
              "huddersfield town            38\n",
              "cardiff city                 38\n",
              "bolton wanderers             38\n",
              "blackburn rovers             38\n",
              "sheffield united             34\n",
              "blackpool                    19\n",
              "middlesbrough                19\n",
              "reading                      19\n",
              "birmingham city              19\n",
              "leeds united                 13\n",
              "Name: home_team, dtype: int64"
            ]
          },
          "metadata": {},
          "execution_count": 169
        }
      ]
    },
    {
      "cell_type": "code",
      "source": [
        "df['away_team'] = df['away_team'].str.lower()\n",
        "df['away_team'].value_counts(dropna=False)"
      ],
      "metadata": {
        "colab": {
          "base_uri": "https://localhost:8080/"
        },
        "id": "9tR6ATjPZOiA",
        "outputId": "1e97f57c-85a1-458d-a1d5-d04843c3c714"
      },
      "execution_count": 170,
      "outputs": [
        {
          "output_type": "execute_result",
          "data": {
            "text/plain": [
              "manchester united           205\n",
              "arsenal                     204\n",
              "chelsea                     204\n",
              "manchester city             203\n",
              "everton                     203\n",
              "liverpool                   203\n",
              "tottenham hotspur           202\n",
              "newcastle united            185\n",
              "west ham united             184\n",
              "southampton                 166\n",
              "west bromwich albion        165\n",
              "stoke city                  152\n",
              "aston villa                 147\n",
              "crystal palace              146\n",
              "sunderland                  133\n",
              "swansea city                133\n",
              "leicester city              129\n",
              "fulham                      109\n",
              "burnley                     108\n",
              "norwich city                 95\n",
              "watford                      95\n",
              "afc bournemouth              94\n",
              "wolverhampton wanderers      91\n",
              "brighton and hove albion     70\n",
              "queens park rangers          57\n",
              "hull city                    57\n",
              "wigan athletic               57\n",
              "huddersfield town            38\n",
              "bolton wanderers             38\n",
              "cardiff city                 38\n",
              "blackburn rovers             38\n",
              "sheffield united             32\n",
              "reading                      19\n",
              "middlesbrough                19\n",
              "birmingham city              19\n",
              "blackpool                    19\n",
              "leeds united                 13\n",
              "Name: away_team, dtype: int64"
            ]
          },
          "metadata": {},
          "execution_count": 170
        }
      ]
    },
    {
      "cell_type": "markdown",
      "source": [
        "Duplicados:"
      ],
      "metadata": {
        "id": "mGdyXw12bCJz"
      }
    },
    {
      "cell_type": "code",
      "source": [
        "key = ['season', 'date', 'home_team', 'away_team', 'result_full']\n",
        "df_dup = df.drop_duplicates(subset=key)\n",
        "\n",
        "print(\"Registros originales:\")\n",
        "print(df.shape, \"\\n\")\n",
        "print(\"Registros sin duplicados:\")\n",
        "print(df_dup.shape, \"\\n\")"
      ],
      "metadata": {
        "colab": {
          "base_uri": "https://localhost:8080/"
        },
        "id": "GqUITFUxbaAR",
        "outputId": "5a5f9610-89bb-45d3-d4b5-851b26975a08"
      },
      "execution_count": 171,
      "outputs": [
        {
          "output_type": "stream",
          "name": "stdout",
          "text": [
            "Registros originales:\n",
            "(4070, 114) \n",
            "\n",
            "Registros sin duplicados:\n",
            "(4070, 114) \n",
            "\n"
          ]
        }
      ]
    },
    {
      "cell_type": "markdown",
      "source": [
        "Repetitivos:"
      ],
      "metadata": {
        "id": "yfAywfphc3Jq"
      }
    },
    {
      "cell_type": "code",
      "source": [
        "#Con más del 90%\n",
        "num_rows = len(df.index)\n",
        "low_information_cols = []\n",
        "\n",
        "for col in df.columns:\n",
        "    cnts = df[col].value_counts(dropna=False)\n",
        "    top_pct = (cnts/num_rows).iloc[0]\n",
        "\n",
        "    if top_pct > 0.90:\n",
        "        low_information_cols.append(col)\n",
        "        print('{0}: {1:.5f}%'.format(col, top_pct*100))\n",
        "        print(cnts)\n",
        "        print()"
      ],
      "metadata": {
        "colab": {
          "base_uri": "https://localhost:8080/"
        },
        "id": "zUUOmRPbc4uY",
        "outputId": "8027174f-d192-4f06-a3bb-447aa9b3c7db"
      },
      "execution_count": 172,
      "outputs": [
        {
          "output_type": "stream",
          "name": "stdout",
          "text": [
            "home_red_cards: 94.20147%\n",
            "0.0    3834\n",
            "1.0     229\n",
            "2.0       7\n",
            "Name: home_red_cards, dtype: int64\n",
            "\n",
            "away_red_cards: 92.16216%\n",
            "0.0    3751\n",
            "1.0     305\n",
            "2.0      14\n",
            "Name: away_red_cards, dtype: int64\n",
            "\n"
          ]
        }
      ]
    },
    {
      "cell_type": "code",
      "source": [
        "csv_name = \"datasetLimpio.csv\"\n",
        "df.to_csv(csv_name, index=False)\n",
        "\n",
        "print(f\"El archivo '{csv_name}' ha sido guardado con éxito.\")"
      ],
      "metadata": {
        "colab": {
          "base_uri": "https://localhost:8080/"
        },
        "id": "azmQYN1O79Mi",
        "outputId": "d87c9304-3777-432e-a504-aa600849f8d2"
      },
      "execution_count": 28,
      "outputs": [
        {
          "output_type": "stream",
          "name": "stdout",
          "text": [
            "El archivo 'datasetLimpio.csv' ha sido guardado con éxito.\n"
          ]
        }
      ]
    }
  ]
}